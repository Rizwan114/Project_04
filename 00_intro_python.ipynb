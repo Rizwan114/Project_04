{
  "nbformat": 4,
  "nbformat_minor": 0,
  "metadata": {
    "colab": {
      "provenance": [],
      "authorship_tag": "ABX9TyMoyXxXKYag2g4PRzqX4mKD",
      "include_colab_link": true
    },
    "kernelspec": {
      "name": "python3",
      "display_name": "Python 3"
    },
    "language_info": {
      "name": "python"
    }
  },
  "cells": [
    {
      "cell_type": "markdown",
      "metadata": {
        "id": "view-in-github",
        "colab_type": "text"
      },
      "source": [
        "<a href=\"https://colab.research.google.com/github/Rizwan114/Project_04/blob/main/00_intro_python.ipynb\" target=\"_parent\"><img src=\"https://colab.research.google.com/assets/colab-badge.svg\" alt=\"Open In Colab\"/></a>"
      ]
    },
    {
      "cell_type": "markdown",
      "source": [
        "# **01_Add two numbers**"
      ],
      "metadata": {
        "id": "NSRUEGOl03_g"
      }
    },
    {
      "cell_type": "code",
      "source": [
        "def main():\n",
        "    print(\"Add two numbers\")\n",
        "    num1 : str = input(\"Enter first number: \")\n",
        "    num2 : int = int(num1)\n",
        "    num3 : str = input(\"Enter second number: \")\n",
        "    num4 : int = int(num3)\n",
        "    total : int = num2 + num4\n",
        "    print(\"The total number is:\" + str(total) + \".\")\n",
        "\n",
        "if __name__ == \"__main__\":\n",
        "  main()"
      ],
      "metadata": {
        "colab": {
          "base_uri": "https://localhost:8080/"
        },
        "id": "a57VEDSpzJeQ",
        "outputId": "dd0a7a64-056e-4cd7-f667-6c34e935ee78"
      },
      "execution_count": 11,
      "outputs": [
        {
          "output_type": "stream",
          "name": "stdout",
          "text": [
            "Add two numbers\n",
            "Enter first number: 3\n",
            "Enter second number: 3\n",
            "The total number is:6.\n"
          ]
        }
      ]
    },
    {
      "cell_type": "markdown",
      "source": [
        "# **02_Agreement_bot**"
      ],
      "metadata": {
        "id": "Fj7p94mp2Y8A"
      }
    },
    {
      "cell_type": "code",
      "source": [
        "def main():\n",
        "    animal = input(\"What is your favorite animal?: \")\n",
        "    print(f\"My favorite animal is also: {animal}!\")\n",
        "\n",
        "if __name__ == \"__main__\":\n",
        "    main()"
      ],
      "metadata": {
        "colab": {
          "base_uri": "https://localhost:8080/"
        },
        "id": "9rDmhGOY19XK",
        "outputId": "87b85aea-b273-461e-d230-06077e6754df"
      },
      "execution_count": 20,
      "outputs": [
        {
          "output_type": "stream",
          "name": "stdout",
          "text": [
            "What is your favorite animal?: cow\n",
            "My favorite animal is also: cow!\n"
          ]
        }
      ]
    },
    {
      "cell_type": "markdown",
      "source": [
        "# **03_fahrentiet to celsius**"
      ],
      "metadata": {
        "id": "jQy_vgaT44C4"
      }
    },
    {
      "cell_type": "code",
      "source": [
        "def main():\n",
        "    fahrenhiet = float(input(\"Enter temperature in fahrenhiet: \"))\n",
        "\n",
        "    celsius = (fahrenhiet - 32) * 5.0/9.0\n",
        "\n",
        "    print(f\"Temperature: {fahrenhiet}F = {celsius}C\")\n",
        "\n",
        "if __name__ == \"__main__\":\n",
        "    main()"
      ],
      "metadata": {
        "colab": {
          "base_uri": "https://localhost:8080/"
        },
        "id": "HR61J6JP4ylY",
        "outputId": "1016eab0-4ad2-4083-8220-5fbb56d507b6"
      },
      "execution_count": 26,
      "outputs": [
        {
          "output_type": "stream",
          "name": "stdout",
          "text": [
            "Enter temperature in fahrenhiet: 44\n",
            "Temperature: 44.0F = 6.666666666666667C\n"
          ]
        }
      ]
    },
    {
      "cell_type": "markdown",
      "source": [
        "# **04_how_old_are_they**"
      ],
      "metadata": {
        "id": "qKja4miN7uNY"
      }
    },
    {
      "cell_type": "code",
      "source": [
        "def main():\n",
        "    anton = 21\n",
        "\n",
        "    beth = anton + 6\n",
        "\n",
        "    chen = beth + 20\n",
        "\n",
        "    drew = chen + anton\n",
        "\n",
        "    ethon = chen\n",
        "\n",
        "    print(f\"Anton is {anton} years old\")\n",
        "    print(f\"Beth is {beth} years old\")\n",
        "    print(f\"Chen is {chen} years old\")\n",
        "    print(f\"Drew is {drew} years old\")\n",
        "    print(f\"Ethon is {ethon} years old\")\n",
        "\n",
        "if __name__ == \"__main__\":\n",
        "    main()"
      ],
      "metadata": {
        "colab": {
          "base_uri": "https://localhost:8080/"
        },
        "id": "S7W0ZFM67tVI",
        "outputId": "9ec25d44-fcca-48c5-deb9-a46114bebd34"
      },
      "execution_count": 27,
      "outputs": [
        {
          "output_type": "stream",
          "name": "stdout",
          "text": [
            "Anton is 21 years old\n",
            "Beth is 27 years old\n",
            "Chen is 47 years old\n",
            "Drew is 68 years old\n",
            "Ethon is 47 years old\n"
          ]
        }
      ]
    },
    {
      "cell_type": "markdown",
      "source": [
        "# **05_triangle_perimeter**"
      ],
      "metadata": {
        "id": "IO_VBbU-B0AZ"
      }
    },
    {
      "cell_type": "code",
      "source": [
        "def main():\n",
        "    side1 = float(input(\"What is the length of side 1?: \"))\n",
        "    side2 = float(input(\"What is the length of side 2: \"))\n",
        "    side3 = float(input(\"What is the length of side 3': \"))\n",
        "\n",
        "    perimeter = side1 + side2 + side3\n",
        "\n",
        "    print(f\"The perimeter of the triangle is: {perimeter}\")\n",
        "\n",
        "if __name__ == \"__main__\":\n",
        "    main()"
      ],
      "metadata": {
        "colab": {
          "base_uri": "https://localhost:8080/"
        },
        "id": "wJohCadPBygr",
        "outputId": "344faa94-171e-44a4-8dcc-64f24a6c95c4"
      },
      "execution_count": 31,
      "outputs": [
        {
          "output_type": "stream",
          "name": "stdout",
          "text": [
            "What is the length of side 1?: 3\n",
            "What is the length of side 2: 4\n",
            "What is the length of side 3': 2\n",
            "The perimeter of the triangle is: 9.0\n"
          ]
        }
      ]
    },
    {
      "cell_type": "markdown",
      "source": [
        "#**06_square_number**"
      ],
      "metadata": {
        "id": "-hPaYQGDENbw"
      }
    },
    {
      "cell_type": "code",
      "source": [
        "def main():\n",
        "    number = float(input(\"Enter a number to see square: \"))\n",
        "\n",
        "    square = number * number\n",
        "\n",
        "    print(f\"{number} sqaure is {square}\")\n",
        "\n",
        "if __name__ == \"__main__\":\n",
        "    main()"
      ],
      "metadata": {
        "colab": {
          "base_uri": "https://localhost:8080/"
        },
        "id": "ShkEKjWxEJXZ",
        "outputId": "37c7a0bf-bbf4-4f1d-cfa0-4c6f78a4d3f2"
      },
      "execution_count": 34,
      "outputs": [
        {
          "output_type": "stream",
          "name": "stdout",
          "text": [
            "Enter a number to see square: 4\n",
            "4.0 sqaure is 16.0\n"
          ]
        }
      ]
    }
  ]
}